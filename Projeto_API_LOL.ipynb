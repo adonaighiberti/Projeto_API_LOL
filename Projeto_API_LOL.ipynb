{
 "cells": [
  {
   "cell_type": "code",
   "execution_count": 3,
   "id": "0569db9b-c98a-4bc3-b7c1-5b7ac265d8e9",
   "metadata": {},
   "outputs": [
    {
     "name": "stdout",
     "output_type": "stream",
     "text": [
      "Collecting Pandas\n",
      "  Downloading pandas-2.2.3-cp312-cp312-win_amd64.whl.metadata (19 kB)\n",
      "Requirement already satisfied: numpy>=1.26.0 in c:\\users\\adona\\appdata\\local\\programs\\python\\python312\\lib\\site-packages (from Pandas) (2.1.1)\n",
      "Requirement already satisfied: python-dateutil>=2.8.2 in c:\\users\\adona\\appdata\\local\\programs\\python\\python312\\lib\\site-packages (from Pandas) (2.9.0.post0)\n",
      "Collecting pytz>=2020.1 (from Pandas)\n",
      "  Downloading pytz-2024.2-py2.py3-none-any.whl.metadata (22 kB)\n",
      "Collecting tzdata>=2022.7 (from Pandas)\n",
      "  Downloading tzdata-2024.2-py2.py3-none-any.whl.metadata (1.4 kB)\n",
      "Requirement already satisfied: six>=1.5 in c:\\users\\adona\\appdata\\local\\programs\\python\\python312\\lib\\site-packages (from python-dateutil>=2.8.2->Pandas) (1.16.0)\n",
      "Downloading pandas-2.2.3-cp312-cp312-win_amd64.whl (11.5 MB)\n",
      "   ---------------------------------------- 0.0/11.5 MB ? eta -:--:--\n",
      "   --- ------------------------------------ 1.0/11.5 MB 5.6 MB/s eta 0:00:02\n",
      "   -------- ------------------------------- 2.4/11.5 MB 6.1 MB/s eta 0:00:02\n",
      "   ----------- ---------------------------- 3.4/11.5 MB 5.9 MB/s eta 0:00:02\n",
      "   ---------------- ----------------------- 4.7/11.5 MB 5.9 MB/s eta 0:00:02\n",
      "   -------------------- ------------------- 5.8/11.5 MB 5.7 MB/s eta 0:00:02\n",
      "   ----------------------- ---------------- 6.8/11.5 MB 5.8 MB/s eta 0:00:01\n",
      "   ---------------------------- ----------- 8.1/11.5 MB 5.8 MB/s eta 0:00:01\n",
      "   ------------------------------- -------- 9.2/11.5 MB 5.8 MB/s eta 0:00:01\n",
      "   ------------------------------------ --- 10.5/11.5 MB 5.8 MB/s eta 0:00:01\n",
      "   ---------------------------------------- 11.5/11.5 MB 5.7 MB/s eta 0:00:00\n",
      "Downloading pytz-2024.2-py2.py3-none-any.whl (508 kB)\n",
      "Downloading tzdata-2024.2-py2.py3-none-any.whl (346 kB)\n",
      "Installing collected packages: pytz, tzdata, Pandas\n",
      "Successfully installed Pandas-2.2.3 pytz-2024.2 tzdata-2024.2\n",
      "Note: you may need to restart the kernel to use updated packages.\n"
     ]
    }
   ],
   "source": [
    "pip install Pandas"
   ]
  }
 ],
 "metadata": {
  "kernelspec": {
   "display_name": "Python 3 (ipykernel)",
   "language": "python",
   "name": "python3"
  },
  "language_info": {
   "codemirror_mode": {
    "name": "ipython",
    "version": 3
   },
   "file_extension": ".py",
   "mimetype": "text/x-python",
   "name": "python",
   "nbconvert_exporter": "python",
   "pygments_lexer": "ipython3",
   "version": "3.12.7"
  }
 },
 "nbformat": 4,
 "nbformat_minor": 5
}
